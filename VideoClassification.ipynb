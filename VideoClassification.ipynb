{
  "nbformat": 4,
  "nbformat_minor": 0,
  "metadata": {
    "colab": {
      "name": "VideoClassification.ipynb",
      "version": "0.3.2",
      "provenance": [],
      "collapsed_sections": []
    },
    "kernelspec": {
      "name": "python3",
      "display_name": "Python 3"
    },
    "accelerator": "GPU"
  },
  "cells": [
    {
      "cell_type": "code",
      "metadata": {
        "id": "Q0xGHahqp85Q",
        "colab_type": "code",
        "colab": {}
      },
      "source": [
        "%matplotlib inline"
      ],
      "execution_count": 0,
      "outputs": []
    },
    {
      "cell_type": "code",
      "metadata": {
        "id": "Fq4VvQ3SqRdQ",
        "colab_type": "code",
        "outputId": "7dd4cdc9-ab5b-4d54-8213-062fa3e8f688",
        "colab": {
          "base_uri": "https://localhost:8080/",
          "height": 35
        }
      },
      "source": [
        "from keras.models import load_model\n",
        "from collections import deque\n",
        "import numpy as np\n",
        "import argparse\n",
        "import pickle\n",
        "import cv2"
      ],
      "execution_count": 0,
      "outputs": [
        {
          "output_type": "stream",
          "text": [
            "Using TensorFlow backend.\n"
          ],
          "name": "stderr"
        }
      ]
    },
    {
      "cell_type": "code",
      "metadata": {
        "id": "a0NZ4KrwqaX9",
        "colab_type": "code",
        "outputId": "974a7ae1-0a2e-48cd-a232-db5f3f462286",
        "colab": {
          "base_uri": "https://localhost:8080/",
          "height": 129
        }
      },
      "source": [
        "from google.colab import drive\n",
        "drive.mount('/content/drive')"
      ],
      "execution_count": 0,
      "outputs": [
        {
          "output_type": "stream",
          "text": [
            "Go to this URL in a browser: https://accounts.google.com/o/oauth2/auth?client_id=947318989803-6bn6qk8qdgf4n4g3pfee6491hc0brc4i.apps.googleusercontent.com&redirect_uri=urn%3Aietf%3Awg%3Aoauth%3A2.0%3Aoob&scope=email%20https%3A%2F%2Fwww.googleapis.com%2Fauth%2Fdocs.test%20https%3A%2F%2Fwww.googleapis.com%2Fauth%2Fdrive%20https%3A%2F%2Fwww.googleapis.com%2Fauth%2Fdrive.photos.readonly%20https%3A%2F%2Fwww.googleapis.com%2Fauth%2Fpeopleapi.readonly&response_type=code\n",
            "\n",
            "Enter your authorization code:\n",
            "··········\n",
            "Mounted at /content/drive\n"
          ],
          "name": "stdout"
        }
      ]
    },
    {
      "cell_type": "code",
      "metadata": {
        "id": "-F-uQjEyqwXS",
        "colab_type": "code",
        "outputId": "6343dce4-d532-440c-db94-0ac322566f39",
        "colab": {
          "base_uri": "https://localhost:8080/",
          "height": 496
        }
      },
      "source": [
        "model = load_model('drive/My Drive/action_dataset/activity.model')\n",
        "lb = pickle.loads(open('drive/My Drive/action_dataset/lb.pickle', 'rb').read())"
      ],
      "execution_count": 0,
      "outputs": [
        {
          "output_type": "stream",
          "text": [
            "WARNING: Logging before flag parsing goes to stderr.\n",
            "W0802 16:39:47.381772 140091554023296 deprecation_wrapper.py:119] From /usr/local/lib/python3.6/dist-packages/keras/backend/tensorflow_backend.py:517: The name tf.placeholder is deprecated. Please use tf.compat.v1.placeholder instead.\n",
            "\n",
            "W0802 16:39:47.543303 140091554023296 deprecation_wrapper.py:119] From /usr/local/lib/python3.6/dist-packages/keras/backend/tensorflow_backend.py:4185: The name tf.truncated_normal is deprecated. Please use tf.random.truncated_normal instead.\n",
            "\n",
            "W0802 16:39:47.660668 140091554023296 deprecation_wrapper.py:119] From /usr/local/lib/python3.6/dist-packages/keras/backend/tensorflow_backend.py:245: The name tf.get_default_graph is deprecated. Please use tf.compat.v1.get_default_graph instead.\n",
            "\n",
            "W0802 16:39:47.667939 140091554023296 deprecation_wrapper.py:119] From /usr/local/lib/python3.6/dist-packages/keras/backend/tensorflow_backend.py:174: The name tf.get_default_session is deprecated. Please use tf.compat.v1.get_default_session instead.\n",
            "\n",
            "W0802 16:39:47.672909 140091554023296 deprecation_wrapper.py:119] From /usr/local/lib/python3.6/dist-packages/keras/backend/tensorflow_backend.py:181: The name tf.ConfigProto is deprecated. Please use tf.compat.v1.ConfigProto instead.\n",
            "\n",
            "W0802 16:39:51.568230 140091554023296 deprecation_wrapper.py:119] From /usr/local/lib/python3.6/dist-packages/keras/backend/tensorflow_backend.py:1834: The name tf.nn.fused_batch_norm is deprecated. Please use tf.compat.v1.nn.fused_batch_norm instead.\n",
            "\n",
            "W0802 16:39:51.667710 140091554023296 deprecation_wrapper.py:119] From /usr/local/lib/python3.6/dist-packages/keras/backend/tensorflow_backend.py:3976: The name tf.nn.max_pool is deprecated. Please use tf.nn.max_pool2d instead.\n",
            "\n",
            "W0802 16:39:57.606424 140091554023296 deprecation.py:506] From /usr/local/lib/python3.6/dist-packages/keras/backend/tensorflow_backend.py:3445: calling dropout (from tensorflow.python.ops.nn_ops) with keep_prob is deprecated and will be removed in a future version.\n",
            "Instructions for updating:\n",
            "Please use `rate` instead of `keep_prob`. Rate should be set to `rate = 1 - keep_prob`.\n",
            "W0802 16:40:01.646592 140091554023296 deprecation_wrapper.py:119] From /usr/local/lib/python3.6/dist-packages/keras/optimizers.py:790: The name tf.train.Optimizer is deprecated. Please use tf.compat.v1.train.Optimizer instead.\n",
            "\n",
            "W0802 16:40:01.786281 140091554023296 deprecation.py:323] From /usr/local/lib/python3.6/dist-packages/tensorflow/python/ops/math_grad.py:1250: add_dispatch_support.<locals>.wrapper (from tensorflow.python.ops.array_ops) is deprecated and will be removed in a future version.\n",
            "Instructions for updating:\n",
            "Use tf.where in 2.0, which has the same broadcast rule as np.where\n",
            "/usr/local/lib/python3.6/dist-packages/sklearn/base.py:306: UserWarning: Trying to unpickle estimator LabelBinarizer from version 0.21.2 when using version 0.21.3. This might lead to breaking code or invalid results. Use at your own risk.\n",
            "  UserWarning)\n"
          ],
          "name": "stderr"
        }
      ]
    },
    {
      "cell_type": "code",
      "metadata": {
        "id": "ZapckygDrs5k",
        "colab_type": "code",
        "colab": {}
      },
      "source": [
        "mean = np.array([123.68, 116.779, 103.939], dtype=\"float32\")"
      ],
      "execution_count": 0,
      "outputs": []
    },
    {
      "cell_type": "code",
      "metadata": {
        "id": "UYB87l4wsGF5",
        "colab_type": "code",
        "colab": {}
      },
      "source": [
        "de = deque([])"
      ],
      "execution_count": 0,
      "outputs": []
    },
    {
      "cell_type": "code",
      "metadata": {
        "id": "_lFhpZnFuLVk",
        "colab_type": "code",
        "colab": {}
      },
      "source": [
        "writer = None\n",
        "(W, H) = (None, None)\n",
        "# print(cap)"
      ],
      "execution_count": 0,
      "outputs": []
    },
    {
      "cell_type": "code",
      "metadata": {
        "id": "N44d1BWAuXhs",
        "colab_type": "code",
        "outputId": "4619d94d-24ba-4758-b3b0-8e82156d9b86",
        "colab": {
          "base_uri": "https://localhost:8080/",
          "height": 35
        }
      },
      "source": [
        "from google.colab.patches import cv2_imshow\n",
        "vs = cv2.VideoCapture('drive/My Drive/biking.mp4')\n",
        "while(True):\n",
        "  (grabbed, frame) = vs.read()\n",
        "  if not grabbed:\n",
        "    break\n",
        "#   cv2.imshow('frame',frame)\n",
        "#   if cv2.waitKey(20) & 0xFF == ord('q'):\n",
        "#             break    \n",
        "  if W is None or H is None:\n",
        "    (H,W) = frame.shape[:2]\n",
        "  output = frame.copy()\n",
        "  frame = cv2.cvtColor(frame, cv2.COLOR_BGR2RGB)\n",
        "  frame = cv2.resize(frame, (224, 224)).astype('float32')\n",
        "  frame -= mean\n",
        "#   print(frame)\n",
        "  preds = model.predict(np.expand_dims(frame, axis=0))[0]\n",
        "  de.append(preds)\n",
        "  results = np.array(de).mean(axis=0)\n",
        "  i = np.argmax(results)\n",
        "  label = lb.classes_[i]\n",
        "#   print(frame)\n",
        "  text = \"activity: {}\".format(label)\n",
        "  cv2.putText(output, text, (35, 50), cv2.FONT_HERSHEY_SIMPLEX, 1.25, (0, 255, 0), 5)\n",
        " \n",
        "\t# check if the video writer is None\n",
        "  if writer is None:\n",
        "\t\t# initialize our video writer\n",
        "    fourcc = cv2.VideoWriter_fourcc(*\"MJPG\")\n",
        "    writer = cv2.VideoWriter('drive/My Drive/bikingoutcome.mp4', fourcc, 30,(W, H), True) \n",
        "\t# write the output frame to disk\n",
        "  writer.write(output)\n",
        " \n",
        "\t# show the output image\n",
        "#   cv2_imshow(\"Output\", output)\n",
        "#   key = cv2.waitKey(1) & 0xFF\n",
        " \n",
        "\t# if the `q` key was pressed, break from the loop\n",
        "#   if key == ord(\"q\"):\n",
        "#     break\n",
        " \n",
        "# release the file pointers\n",
        "print(\"[INFO] cleaning up...\")\n",
        "writer.release()\n",
        "vs.release()"
      ],
      "execution_count": 0,
      "outputs": [
        {
          "output_type": "stream",
          "text": [
            "[INFO] cleaning up...\n"
          ],
          "name": "stdout"
        }
      ]
    },
    {
      "cell_type": "code",
      "metadata": {
        "id": "4-wyxihwwP2u",
        "colab_type": "code",
        "colab": {}
      },
      "source": [
        ""
      ],
      "execution_count": 0,
      "outputs": []
    }
  ]
}